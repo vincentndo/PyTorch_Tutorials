{
 "cells": [
  {
   "cell_type": "code",
   "execution_count": 2,
   "metadata": {},
   "outputs": [
    {
     "name": "stdout",
     "output_type": "stream",
     "text": [
      "tensor([[ 0.1755, -0.3268, -0.5069],\n",
      "        [-0.6602,  0.2260,  0.1089]])\n"
     ]
    }
   ],
   "source": [
    "## Deep Learning Building Blocks: Affine maps, non-linearities and objectives\n",
    "\n",
    "# Affine Maps\n",
    "\n",
    "import torch\n",
    "import torch.nn as nn\n",
    "import torch.nn.functional as F\n",
    "import torch.optim as optim\n",
    "\n",
    "torch.manual_seed(1)\n",
    "\n",
    "lin = nn.Linear(5, 3)\n",
    "data = torch.randn(2, 5)\n",
    "print(lin(data))"
   ]
  },
  {
   "cell_type": "code",
   "execution_count": 3,
   "metadata": {},
   "outputs": [
    {
     "name": "stdout",
     "output_type": "stream",
     "text": [
      "tensor([[-0.5404, -2.2102,  2.1130],\n",
      "        [-0.0040,  1.3800, -1.3505]])\n",
      "tensor([[ 0.0000,  0.0000,  2.1130],\n",
      "        [ 0.0000,  1.3800,  0.0000]])\n"
     ]
    }
   ],
   "source": [
    "# Non-Linearities\n",
    "\n",
    "data = torch.randn(2, 3)\n",
    "print(data)\n",
    "print(F.relu(data))"
   ]
  },
  {
   "cell_type": "code",
   "execution_count": 4,
   "metadata": {},
   "outputs": [
    {
     "name": "stdout",
     "output_type": "stream",
     "text": [
      "tensor([ 0.3455,  0.5046,  1.8213, -0.1814, -0.9515])\n",
      "tensor([ 0.1349,  0.1582,  0.5903,  0.0797,  0.0369])\n",
      "tensor(1.)\n",
      "tensor([-2.0030, -1.8439, -0.5271, -2.5299, -3.2999])\n"
     ]
    }
   ],
   "source": [
    "# Softmax and Probabilities\n",
    "\n",
    "data = torch.randn(5)\n",
    "print(data)\n",
    "print(F.softmax(data, dim=0))\n",
    "print(F.softmax(data, dim=0).sum())\n",
    "print(F.log_softmax(data, dim=0))"
   ]
  },
  {
   "cell_type": "code",
   "execution_count": 5,
   "metadata": {},
   "outputs": [
    {
     "name": "stdout",
     "output_type": "stream",
     "text": [
      "{'a': 18, 'idea': 15, 'at': 22, 'lost': 21, 'Give': 6, 'good': 19, 'cafeteria': 5, 'Yo': 23, 'si': 24, 'get': 20, 'to': 8, 'buena': 14, 'una': 13, 'not': 17, 'que': 11, 'la': 4, 'en': 3, 'is': 16, 'sea': 12, 'it': 7, 'comer': 2, 'gusta': 1, 'me': 0, 'creo': 10, 'No': 9, 'on': 25}\n",
      "Parameter containing:\n",
      "tensor([[ 0.1191,  0.1739, -0.1099, -0.0323, -0.0038,  0.0286, -0.1488,\n",
      "         -0.1392,  0.1067, -0.0460,  0.0958,  0.0112,  0.0644,  0.0431,\n",
      "          0.0713,  0.0972, -0.1816,  0.0987, -0.1379, -0.1480,  0.0119,\n",
      "         -0.0334,  0.1152, -0.1136, -0.1743,  0.1427],\n",
      "        [-0.0291,  0.1103,  0.0630, -0.1471,  0.0394,  0.0471, -0.1313,\n",
      "         -0.0931,  0.0669,  0.0351, -0.0834, -0.0594,  0.1796, -0.0363,\n",
      "          0.1106,  0.0849, -0.1268, -0.1668,  0.1882,  0.0102,  0.1344,\n",
      "          0.0406,  0.0631,  0.1465,  0.1860, -0.1301]])\n",
      "Parameter containing:\n",
      "tensor([ 0.0245,  0.1464])\n",
      "tensor([[-0.7082, -0.6783]])\n"
     ]
    }
   ],
   "source": [
    "## Creating Network Components in PyTorch\n",
    "\n",
    "# Example: Logistic Regression Bog-of-Words classifier\n",
    "\n",
    "data = [(\"me gusta comer en la cafeteria\".split(), \"SPANISH\"),\n",
    "        (\"Give it to me\".split(), \"ENGLISH\"),\n",
    "        (\"No creo que sea una buena idea\".split(), \"SPANISH\"),\n",
    "        (\"No it is not a good idea to get lost at sea\".split(), \"ENGLISH\")]\n",
    "\n",
    "test_data = [(\"Yo creo que si\".split(), \"SPANISH\"),\n",
    "             (\"it is lost on me\".split(), \"ENGLISH\")]\n",
    "\n",
    "word_to_ix = {}\n",
    "for sent, _ in data + test_data:\n",
    "    for word in sent:\n",
    "        if word not in word_to_ix:\n",
    "            word_to_ix[word] = len(word_to_ix)\n",
    "print(word_to_ix)\n",
    "\n",
    "VOCAB_SIZE = len(word_to_ix)\n",
    "NUM_LABELS = 2\n",
    "\n",
    "\n",
    "class BoWClassifier(nn.Module):\n",
    "    \n",
    "    def __init__(self, num_labels, vocab_size):\n",
    "        super(BoWClassifier, self).__init__()\n",
    "        self.linear = nn.Linear(vocab_size, num_labels)\n",
    "        \n",
    "    def forward(self, bow_vec):\n",
    "        return F.log_softmax(self.linear(bow_vec), dim=1)\n",
    "    \n",
    "    \n",
    "def make_bow_vector(sentence, word_to_ix):\n",
    "    vec = torch.zeros(len(word_to_ix))\n",
    "    for word in sentence:\n",
    "        vec[word_to_ix[word]] += 1\n",
    "    return vec.view(1, -1)\n",
    "\n",
    "\n",
    "def make_target(label, label_to_ix):\n",
    "    return torch.LongTensor([label_to_ix[label]])\n",
    "\n",
    "\n",
    "model = BoWClassifier(NUM_LABELS, VOCAB_SIZE)\n",
    "\n",
    "for param in model.parameters():\n",
    "    print(param)\n",
    "    \n",
    "with torch.no_grad():\n",
    "    sample = data[0]\n",
    "    bow_vector = make_bow_vector(sample[0], word_to_ix)\n",
    "    log_probs = model(bow_vector)\n",
    "    print(log_probs)"
   ]
  },
  {
   "cell_type": "code",
   "execution_count": 6,
   "metadata": {},
   "outputs": [],
   "source": [
    "label_to_ix = {\"SPANISH\": 0, \"ENGLISH\": 1}"
   ]
  },
  {
   "cell_type": "code",
   "execution_count": 7,
   "metadata": {},
   "outputs": [
    {
     "name": "stdout",
     "output_type": "stream",
     "text": [
      "tensor([[-0.9694, -0.4769]])\n",
      "tensor([[-0.6330, -0.7571]])\n",
      "tensor(1.00000e-02 *\n",
      "       [ 9.5798, -8.3422])\n",
      "tensor([[-0.2270, -1.5941]])\n",
      "tensor([[-2.4246, -0.0927]])\n",
      "tensor([ 0.5134, -0.5010])\n"
     ]
    }
   ],
   "source": [
    "with torch.no_grad():\n",
    "    for instance, label in test_data:\n",
    "        bow_vec = make_bow_vector(instance, word_to_ix)\n",
    "        log_probs = model(bow_vec)\n",
    "        print(log_probs)\n",
    "        \n",
    "print(next(model.parameters())[:, word_to_ix[\"creo\"]])\n",
    "\n",
    "loss_function = nn.NLLLoss()\n",
    "optimizer = optim.SGD(model.parameters(), lr=0.1)\n",
    "\n",
    "for epoch in range(100):\n",
    "    for instance, label in data:\n",
    "        model.zero_grad()\n",
    "        bow_vec = make_bow_vector(instance, word_to_ix)\n",
    "        target = make_target(label, label_to_ix)\n",
    "        log_probs = model(bow_vec)\n",
    "        loss = loss_function(log_probs, target)\n",
    "        loss.backward()\n",
    "        optimizer.step()\n",
    "        \n",
    "with torch.no_grad():\n",
    "    for instance, label in test_data:\n",
    "        bow_vec = make_bow_vector(instance, word_to_ix)\n",
    "        log_probs = model(bow_vec)\n",
    "        print(log_probs)\n",
    "        \n",
    "print(next(model.parameters())[:, word_to_ix[\"creo\"]])"
   ]
  },
  {
   "cell_type": "code",
   "execution_count": null,
   "metadata": {},
   "outputs": [],
   "source": []
  }
 ],
 "metadata": {
  "kernelspec": {
   "display_name": "Python 3",
   "language": "python",
   "name": "python3"
  },
  "language_info": {
   "codemirror_mode": {
    "name": "ipython",
    "version": 3
   },
   "file_extension": ".py",
   "mimetype": "text/x-python",
   "name": "python",
   "nbconvert_exporter": "python",
   "pygments_lexer": "ipython3",
   "version": "3.5.2"
  }
 },
 "nbformat": 4,
 "nbformat_minor": 2
}
